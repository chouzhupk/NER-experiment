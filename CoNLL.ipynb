{
 "cells": [
  {
   "cell_type": "markdown",
   "metadata": {},
   "source": [
    "CoNLL-2003 (https://www.clips.uantwerpen.be/conll2003/ner/) is a well-known data set for named entity recognition (NER) task, which provides the part-of-speech (POS) tag, chunking tag (for phrase) and name entity tag for every word in one line. The end of sentence corresponds to an empty line in the file.\n",
    "\n",
    "In terms of the name entity tags, the data highlights those for **organization** (**I-ORG**), **person** (**I-PER**) and **location** (**I-LOC**), and marks the rest names as **miscellaneous** (**I-MISC**). Null label **O** is assigned to words that are not (part of) a name. \n",
    "\n",
    "Besides, there are certain situations that two phrases of the same type immediately follow each other, the first word of the second phrase is **B**-initialized instead to distinguish. For instance, \"...Golan (I-LOC) Heights (I-LOC) Israel (**B-LOC**)...\"."
   ]
  },
  {
   "cell_type": "code",
   "execution_count": 60,
   "metadata": {},
   "outputs": [],
   "source": [
    "import pandas as pd\n",
    "import numpy as np\n",
    "import csv\n",
    "import matplotlib.pyplot as plt\n",
    "from sklearn.preprocessing import LabelEncoder, LabelBinarizer\n",
    "from sklearn.model_selection import train_test_split\n",
    "from keras.preprocessing.sequence import pad_sequences\n",
    "from keras.models import Sequential, Input, Model\n",
    "from keras.layers import Embedding, Dense, Bidirectional, LSTM, TimeDistributed, Dropout\n",
    "\n",
    "pd.options.display.max_rows = 30"
   ]
  },
  {
   "cell_type": "markdown",
   "metadata": {},
   "source": [
    "### Data preprocessing"
   ]
  },
  {
   "cell_type": "markdown",
   "metadata": {},
   "source": [
    "#### Read in the training data, index the sentences, and remove the prefix (I and B) of entity tags."
   ]
  },
  {
   "cell_type": "code",
   "execution_count": 35,
   "metadata": {},
   "outputs": [],
   "source": [
    "train = pd.read_csv(\"./data/CoNLL-2003/eng.train\", names=[\"word\", \"POS\", \"chunk\", \"origin_entity\"], \n",
    "                    header=None, sep=\" \", skip_blank_lines=False)"
   ]
  },
  {
   "cell_type": "code",
   "execution_count": 36,
   "metadata": {},
   "outputs": [],
   "source": [
    "# drop prefix of name entity tag\n",
    "train[\"entity\"] = train[\"origin_entity\"].str.rsplit(\"-\", 1).str[-1]"
   ]
  },
  {
   "cell_type": "code",
   "execution_count": 37,
   "metadata": {},
   "outputs": [],
   "source": [
    "# add sentence number\n",
    "train[\"sentence\"] = train.isnull().all(axis=1).cumsum()"
   ]
  },
  {
   "cell_type": "code",
   "execution_count": 38,
   "metadata": {},
   "outputs": [],
   "source": [
    "# no longer needs the empty rows after indexing the sentences\n",
    "train = train.dropna()"
   ]
  },
  {
   "cell_type": "markdown",
   "metadata": {},
   "source": [
    "#### Encode the name entity tags and words (one-hot for tags)."
   ]
  },
  {
   "cell_type": "code",
   "execution_count": 99,
   "metadata": {},
   "outputs": [],
   "source": [
    "entity_tag_encoder = LabelEncoder()\n",
    "train['y'] = entity_tag_encoder.fit_transform(train.entity)"
   ]
  },
  {
   "cell_type": "code",
   "execution_count": 40,
   "metadata": {},
   "outputs": [
    {
     "data": {
      "text/plain": [
       "(array([  6.96900000e+03,   3.09300000e+03,   1.72900000e+03,\n",
       "          1.47000000e+03,   1.16400000e+03,   4.29000000e+02,\n",
       "          1.09000000e+02,   1.70000000e+01,   2.00000000e+00,\n",
       "          0.00000000e+00,   1.00000000e+00,   0.00000000e+00,\n",
       "          0.00000000e+00,   0.00000000e+00,   1.00000000e+00]),\n",
       " array([   1.        ,    8.46666667,   15.93333333,   23.4       ,\n",
       "          30.86666667,   38.33333333,   45.8       ,   53.26666667,\n",
       "          60.73333333,   68.2       ,   75.66666667,   83.13333333,\n",
       "          90.6       ,   98.06666667,  105.53333333,  113.        ]),\n",
       " <a list of 15 Patch objects>)"
      ]
     },
     "execution_count": 40,
     "metadata": {},
     "output_type": "execute_result"
    },
    {
     "data": {
      "image/png": "[encoded data removed]",
      "text/plain": [
       "<Figure size 432x288 with 1 Axes>"
      ]
     },
     "metadata": {},
     "output_type": "display_data"
    }
   ],
   "source": [
    "# take a look at the length distribution of sentences, most of which falls below 60\n",
    "plt.hist(train.groupby('sentence').agg('count')['word'], bins=15)"
   ]
  },
  {
   "cell_type": "code",
   "execution_count": 41,
   "metadata": {},
   "outputs": [],
   "source": [
    "word_encoder = LabelEncoder()\n",
    "train['x'] = word_encoder.fit_transform(train.word)"
   ]
  },
  {
   "cell_type": "code",
   "execution_count": 65,
   "metadata": {},
   "outputs": [
    {
     "data": {
      "text/plain": [
       "LabelBinarizer(neg_label=0, pos_label=1, sparse_output=False)"
      ]
     },
     "execution_count": 65,
     "metadata": {},
     "output_type": "execute_result"
    }
   ],
   "source": [
    "onehot_encoder = LabelBinarizer()\n",
    "onehot_encoder.fit(train.y)"
   ]
  },
  {
   "cell_type": "code",
   "execution_count": 67,
   "metadata": {},
   "outputs": [],
   "source": [
    "x_train_sentence = train.groupby('sentence')['x'].apply(list)\n",
    "y_train_tag = train.groupby('sentence')['y'].apply(list)\n",
    "y_train_tag_onehot = [onehot_encoder.transform(group) for group in y_train_tag]"
   ]
  },
  {
   "cell_type": "markdown",
   "metadata": {},
   "source": [
    "#### Pad (encoded) sentences and tags to the unifed length 60. (accuracy upper bound ~ .7842)\n",
    "* Increasing length to 100 shifts the accuracy"
   ]
  },
  {
   "cell_type": "code",
   "execution_count": 87,
   "metadata": {},
   "outputs": [],
   "source": [
    "x_train_seq = pad_sequences(x_train_sentence, maxlen=100, value=-1)\n",
    "y_train_seq = pad_sequences(y_train_tag_onehot, maxlen=100, value=0)"
   ]
  },
  {
   "cell_type": "markdown",
   "metadata": {},
   "source": [
    "#### Word embedding with 50 dimensional GloVe pretrained word vectors."
   ]
  },
  {
   "cell_type": "code",
   "execution_count": 12,
   "metadata": {},
   "outputs": [],
   "source": [
    "GloVe = pd.read_table('data/glove.6B.50d.txt', index_col=0, header=None, sep=' ', quoting=csv.QUOTE_NONE)"
   ]
  },
  {
   "cell_type": "code",
   "execution_count": 88,
   "metadata": {},
   "outputs": [],
   "source": [
    "# \n",
    "embedding_matrix = np.zeros((len(word_encoder.classes_) + 1, 50))\n",
    "for i, word in enumerate(word_encoder.classes_):\n",
    "    try:\n",
    "        embedding_matrix[i] = GloVe.loc[word]\n",
    "    except:\n",
    "        pass"
   ]
  },
  {
   "cell_type": "markdown",
   "metadata": {},
   "source": [
    "### Model setting"
   ]
  },
  {
   "cell_type": "code",
   "execution_count": 89,
   "metadata": {},
   "outputs": [
    {
     "name": "stdout",
     "output_type": "stream",
     "text": [
      "_________________________________________________________________\n",
      "Layer (type)                 Output Shape              Param #   \n",
      "=================================================================\n",
      "input_15 (InputLayer)        (None, 100)               0         \n",
      "_________________________________________________________________\n",
      "embedding_15 (Embedding)     (None, 100, 50)           1181150   \n",
      "_________________________________________________________________\n",
      "bidirectional_15 (Bidirectio (None, 100, 550)          717200    \n",
      "_________________________________________________________________\n",
      "time_distributed_13 (TimeDis (None, 100, 5)            2755      \n",
      "_________________________________________________________________\n",
      "dropout_13 (Dropout)         (None, 100, 5)            0         \n",
      "=================================================================\n",
      "Total params: 1,901,105\n",
      "Trainable params: 1,901,105\n",
      "Non-trainable params: 0\n",
      "_________________________________________________________________\n",
      "None\n"
     ]
    }
   ],
   "source": [
    "input_ = Input(shape=(100,))\n",
    "x_ = Embedding(*embedding_matrix.shape, weights=[embedding_matrix])(input_)\n",
    "x_ = Bidirectional(LSTM(275, return_sequences=True))(x_)\n",
    "x_ = TimeDistributed(Dense(5, activation='softmax'))(x_)\n",
    "x_ = Dropout(0.5)(x_)\n",
    "model = Model(inputs=input_, outputs=x_)\n",
    "model.compile(loss='categorical_crossentropy', \n",
    "              optimizer='rmsprop', \n",
    "              metrics=['accuracy'])\n",
    "print model.summary()"
   ]
  },
  {
   "cell_type": "code",
   "execution_count": 90,
   "metadata": {},
   "outputs": [
    {
     "name": "stdout",
     "output_type": "stream",
     "text": [
      "Epoch 1/5\n",
      "14984/14984 [==============================] - 37s 2ms/step - loss: 0.0097 - acc: 0.8650\n",
      "Epoch 2/5\n",
      "14984/14984 [==============================] - 37s 2ms/step - loss: 1.6100e-08 - acc: 0.8705\n",
      "Epoch 3/5\n",
      "14984/14984 [==============================] - 37s 2ms/step - loss: 1.6100e-08 - acc: 0.8705\n",
      "Epoch 4/5\n",
      "14984/14984 [==============================] - 39s 3ms/step - loss: 1.6100e-08 - acc: 0.8705\n",
      "Epoch 5/5\n",
      "14984/14984 [==============================] - 38s 3ms/step - loss: 1.6100e-08 - acc: 0.8705\n"
     ]
    },
    {
     "data": {
      "text/plain": [
       "<keras.callbacks.History at 0x7f9f2756e3d0>"
      ]
     },
     "execution_count": 90,
     "metadata": {},
     "output_type": "execute_result"
    }
   ],
   "source": [
    "model.fit(x_train_seq, y_train_seq, epochs=5, batch_size=128)"
   ]
  },
  {
   "cell_type": "markdown",
   "metadata": {},
   "source": [
    "#### Read and encode test data and encode"
   ]
  },
  {
   "cell_type": "code",
   "execution_count": 93,
   "metadata": {},
   "outputs": [],
   "source": [
    "test = pd.read_csv('data/CoNLL-2003/eng.testa', names=[\"word\", \"POS\", \"chunk\", \"origin_entity\"], \n",
    "                    header=None, sep=\" \", skip_blank_lines=False)"
   ]
  },
  {
   "cell_type": "code",
   "execution_count": 94,
   "metadata": {},
   "outputs": [],
   "source": [
    "# drop prefix of name entity tag\n",
    "test[\"entity\"] = test[\"origin_entity\"].str.rsplit(\"-\", 1).str[-1]"
   ]
  },
  {
   "cell_type": "code",
   "execution_count": 95,
   "metadata": {},
   "outputs": [],
   "source": [
    "# add sentence number\n",
    "test[\"sentence\"] = test.isnull().all(axis=1).cumsum()"
   ]
  },
  {
   "cell_type": "code",
   "execution_count": 96,
   "metadata": {},
   "outputs": [],
   "source": [
    "# no longer needs the empty rows after indexing the sentences\n",
    "test = test.dropna()"
   ]
  },
  {
   "cell_type": "code",
   "execution_count": 100,
   "metadata": {},
   "outputs": [],
   "source": [
    "test['y'] = entity_tag_encoder.transform(test.entity)"
   ]
  },
  {
   "cell_type": "markdown",
   "metadata": {},
   "source": [
    "Requires a little workaround to solve the out-of-bag words encoding for `fit` method of `LabelEncoder`"
   ]
  },
  {
   "cell_type": "code",
   "execution_count": 111,
   "metadata": {},
   "outputs": [],
   "source": [
    "word_map = {word: idx for idx, word in enumerate(word_encoder.classes_)}\n",
    "test['x'] = test['word'].apply(lambda x: word_map.get(x, len(word_encoder.classes_)))"
   ]
  },
  {
   "cell_type": "code",
   "execution_count": 112,
   "metadata": {},
   "outputs": [
    {
     "data": {
      "text/plain": [
       "0         5313\n",
       "1          111\n",
       "2        23622\n",
       "3        12467\n",
       "4        10252\n",
       "5         3924\n",
       "6        12519\n",
       "7         3850\n",
       "8         7933\n",
       "9        13045\n",
       "10         123\n",
       "12        8816\n",
       "13        1407\n",
       "15       13380\n",
       "16        8029\n",
       "         ...  \n",
       "55025    23622\n",
       "55026    19476\n",
       "55027    13689\n",
       "55028    22909\n",
       "55029    19431\n",
       "55030    23622\n",
       "55031    18975\n",
       "55032    22423\n",
       "55033    19476\n",
       "55034    12736\n",
       "55035      123\n",
       "55037      112\n",
       "55038     6189\n",
       "55039    10058\n",
       "55040    23622\n",
       "Name: x, Length: 50934, dtype: int64"
      ]
     },
     "execution_count": 112,
     "metadata": {},
     "output_type": "execute_result"
    }
   ],
   "source": [
    "test.x"
   ]
  }
 ],
 "metadata": {
  "kernelspec": {
   "display_name": "Python 2",
   "language": "python",
   "name": "python2"
  },
  "language_info": {
   "codemirror_mode": {
    "name": "ipython",
    "version": 2
   },
   "file_extension": ".py",
   "mimetype": "text/x-python",
   "name": "python",
   "nbconvert_exporter": "python",
   "pygments_lexer": "ipython2",
   "version": "2.7.14"
  }
 },
 "nbformat": 4,
 "nbformat_minor": 1
}
