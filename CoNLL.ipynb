{
 "cells": [
  {
   "cell_type": "markdown",
   "metadata": {},
   "source": [
    "CoNLL-2003 (https://www.clips.uantwerpen.be/conll2003/ner/) is a well-known data set for named entity recognition (NER) task, which provides the part-of-speech (POS) tag, chunking tag (for phrase) and name entity tag for every word in one line. The end of sentence corresponds to an empty line in the file.\n",
    "\n",
    "In terms of the name entity tags, the data highlights those for **organization** (**I-ORG**), **person** (**I-PER**) and **location** (**I-LOC**), and marks the rest names as **miscellaneous** (**I-MISC**). Null label **O** is assigned to words that are not (part of) a name. \n",
    "\n",
    "Besides, there are certain situations that two phrases of the same type immediately follow each other, the first word of the second phrase is **B**-initialized instead to distinguish. For instance, \"...Golan (I-LOC) Heights (I-LOC) Israel (**B-LOC**)...\"."
   ]
  },
  {
   "cell_type": "code",
   "execution_count": 33,
   "metadata": {},
   "outputs": [],
   "source": [
    "import pandas as pd\n",
    "import numpy as np\n",
    "import csv\n",
    "import matplotlib.pyplot as plt\n",
    "from sklearn.preprocessing import LabelEncoder\n",
    "from sklearn.model_selection import train_test_split\n",
    "from keras.preprocessing.sequence import pad_sequences\n",
    "from keras.models import Sequential\n",
    "from keras.layers import Dense, Bidirectional, LSTM, TimeDistributed, Dropout\n",
    "\n",
    "pd.options.display.max_rows = 30"
   ]
  },
  {
   "cell_type": "markdown",
   "metadata": {},
   "source": [
    "### Data preprocessing"
   ]
  },
  {
   "cell_type": "markdown",
   "metadata": {},
   "source": [
    "#### Read in the training data, index the sentences, and remove the prefix (I and B) of entity tags."
   ]
  },
  {
   "cell_type": "code",
   "execution_count": 2,
   "metadata": {},
   "outputs": [],
   "source": [
    "train = pd.read_csv(\"./data/CoNLL-2003/eng.train\", names=[\"word\", \"POS\", \"chunk\", \"origin_entity\"], \n",
    "                    header=None, sep=\" \", skip_blank_lines=False)"
   ]
  },
  {
   "cell_type": "code",
   "execution_count": 3,
   "metadata": {},
   "outputs": [],
   "source": [
    "# drop prefix of name entity tag\n",
    "train[\"entity\"] = train[\"origin_entity\"].str.rsplit(\"-\", 1).str[-1]"
   ]
  },
  {
   "cell_type": "code",
   "execution_count": 4,
   "metadata": {},
   "outputs": [],
   "source": [
    "# add sentence number\n",
    "train[\"sentence\"] = train.isnull().all(axis=1).cumsum()"
   ]
  },
  {
   "cell_type": "code",
   "execution_count": 5,
   "metadata": {},
   "outputs": [],
   "source": [
    "# no longer needs the empty rows after indexing the sentences\n",
    "train = train.dropna()"
   ]
  },
  {
   "cell_type": "markdown",
   "metadata": {},
   "source": [
    "#### Encode the name entity tags and words."
   ]
  },
  {
   "cell_type": "code",
   "execution_count": 6,
   "metadata": {},
   "outputs": [],
   "source": [
    "entity_tag_encoder = LabelEncoder()\n",
    "train['y'] = entity_tag_encoder.fit_transform(train.entity)"
   ]
  },
  {
   "cell_type": "code",
   "execution_count": 7,
   "metadata": {},
   "outputs": [
    {
     "data": {
      "text/plain": [
       "(array([  6.96900000e+03,   3.09300000e+03,   1.72900000e+03,\n",
       "          1.47000000e+03,   1.16400000e+03,   4.29000000e+02,\n",
       "          1.09000000e+02,   1.70000000e+01,   2.00000000e+00,\n",
       "          0.00000000e+00,   1.00000000e+00,   0.00000000e+00,\n",
       "          0.00000000e+00,   0.00000000e+00,   1.00000000e+00]),\n",
       " array([   1.        ,    8.46666667,   15.93333333,   23.4       ,\n",
       "          30.86666667,   38.33333333,   45.8       ,   53.26666667,\n",
       "          60.73333333,   68.2       ,   75.66666667,   83.13333333,\n",
       "          90.6       ,   98.06666667,  105.53333333,  113.        ]),\n",
       " <a list of 15 Patch objects>)"
      ]
     },
     "execution_count": 7,
     "metadata": {},
     "output_type": "execute_result"
    },
    {
     "data": {
      "image/png": "[encoded data removed]",
      "text/plain": [
       "<Figure size 432x288 with 1 Axes>"
      ]
     },
     "metadata": {},
     "output_type": "display_data"
    }
   ],
   "source": [
    "# take a look at the length distribution of sentences, most of which falls below 60\n",
    "plt.hist(train.groupby('sentence').agg('count')['word'], bins=15)"
   ]
  },
  {
   "cell_type": "code",
   "execution_count": 8,
   "metadata": {},
   "outputs": [],
   "source": [
    "word_encoder = LabelEncoder()\n",
    "train['x'] = word_encoder.fit_transform(train.word)"
   ]
  },
  {
   "cell_type": "code",
   "execution_count": 9,
   "metadata": {},
   "outputs": [],
   "source": [
    "x_train_sentence = train.groupby('sentence')['x'].apply(list)"
   ]
  },
  {
   "cell_type": "code",
   "execution_count": 10,
   "metadata": {},
   "outputs": [
    {
     "data": {
      "text/plain": [
       "array(['China', 'says', 'Taiwan', 'spoils', 'atmosphere', 'for', 'talks',\n",
       "       '.'], dtype=object)"
      ]
     },
     "execution_count": 10,
     "metadata": {},
     "output_type": "execute_result"
    }
   ],
   "source": [
    "word_encoder.inverse_transform(x_train_sentence[30])"
   ]
  },
  {
   "cell_type": "markdown",
   "metadata": {},
   "source": [
    "#### Pad sentences to the unifed length 60."
   ]
  },
  {
   "cell_type": "code",
   "execution_count": 11,
   "metadata": {},
   "outputs": [],
   "source": [
    "x_train_seq = pad_sequences(x_train_sentence, maxlen=60)"
   ]
  },
  {
   "cell_type": "markdown",
   "metadata": {},
   "source": [
    "#### word embedding."
   ]
  },
  {
   "cell_type": "code",
   "execution_count": 34,
   "metadata": {},
   "outputs": [],
   "source": [
    "glove = pd.read_table('data/glove.6B.50d.txt', index_col=0, header=None, sep=' ', quoting=csv.QUOTE_NONE)"
   ]
  },
  {
   "cell_type": "code",
   "execution_count": 39,
   "metadata": {},
   "outputs": [
    {
     "data": {
      "text/plain": [
       "Index([          u'the',             u',',             u'.',            u'of',\n",
       "                  u'to',           u'and',            u'in',             u'a',\n",
       "                   u'\"',            u''s',\n",
       "       ...\n",
       "             u'sigarms',        u'katuna',           u'aqm',        u'1.3775',\n",
       "       u'corythosaurus',        u'chanty',        u'kronik',       u'rolonda',\n",
       "             u'zsombor',    u'sandberger'],\n",
       "      dtype='object', name=0, length=400000)"
      ]
     },
     "execution_count": 39,
     "metadata": {},
     "output_type": "execute_result"
    }
   ],
   "source": [
    "glove.index"
   ]
  },
  {
   "cell_type": "markdown",
   "metadata": {},
   "source": [
    "### Model setting"
   ]
  },
  {
   "cell_type": "code",
   "execution_count": 23,
   "metadata": {},
   "outputs": [],
   "source": [
    "NER = Sequential()\n",
    "NER.add(Bidirectional(LSTM(150, return_sequences=True), input_shape=(60, 50)))\n",
    "NER.add(TimeDistributed(Dense(5, activation='softmax')))\n",
    "NER.add(Dropout(0.25))\n",
    "NER.compile(loss='categorical_crossentropy', optimizer='adam', metrics=['accuracy'])"
   ]
  },
  {
   "cell_type": "code",
   "execution_count": 36,
   "metadata": {},
   "outputs": [
    {
     "data": {
      "text/plain": [
       "1     0.237270\n",
       "2     0.404780\n",
       "3    -0.205470\n",
       "4     0.588050\n",
       "5     0.655330\n",
       "6     0.328670\n",
       "7    -0.819640\n",
       "8    -0.232360\n",
       "9     0.274280\n",
       "10    0.242650\n",
       "11    0.054992\n",
       "12    0.162960\n",
       "13   -1.255500\n",
       "14   -0.086437\n",
       "15    0.445360\n",
       "        ...   \n",
       "36   -0.339380\n",
       "37   -0.199280\n",
       "38    0.260490\n",
       "39    0.104780\n",
       "40   -0.559340\n",
       "41   -0.123420\n",
       "42    0.659610\n",
       "43   -0.518020\n",
       "44   -0.829950\n",
       "45   -0.082739\n",
       "46    0.281550\n",
       "47   -0.423000\n",
       "48   -0.273780\n",
       "49   -0.007901\n",
       "50   -0.030231\n",
       "Name: 's, Length: 50, dtype: float64"
      ]
     },
     "execution_count": 36,
     "metadata": {},
     "output_type": "execute_result"
    }
   ],
   "source": [
    "glove.loc[\"'s\"]"
   ]
  },
  {
   "cell_type": "code",
   "execution_count": null,
   "metadata": {},
   "outputs": [],
   "source": []
  }
 ],
 "metadata": {
  "kernelspec": {
   "display_name": "Python 2",
   "language": "python",
   "name": "python2"
  },
  "language_info": {
   "codemirror_mode": {
    "name": "ipython",
    "version": 2
   },
   "file_extension": ".py",
   "mimetype": "text/x-python",
   "name": "python",
   "nbconvert_exporter": "python",
   "pygments_lexer": "ipython2",
   "version": "2.7.14"
  }
 },
 "nbformat": 4,
 "nbformat_minor": 1
}
